{
 "cells": [
  {
   "cell_type": "markdown",
   "metadata": {},
   "source": [
    "### Introduction\n",
    "\n",
    "The Titanic disaster remains one of the most infamous maritime tragedies in history, capturing public interest for over a century. In this exploratory data analysis (EDA), we delve into the Titanic dataset to gain insights into the passengers who traveled aboard the ill-fated ship. \n",
    "\n",
    "Through this analysis, we'll use different data visualization and statistical methods to find patterns and insights about the passengers. The goal is to better understand what happened during this tragic event and to see how data can help us learn about real-life situations.\n"
   ]
  },
  {
   "cell_type": "markdown",
   "metadata": {},
   "source": [
    "### Titanic Dataset Description\n",
    "\n",
    "The Titanic dataset is a well-known collection of data often used in data analysis and machine learning. It provides information about passengers aboard the RMS Titanic, which tragically sank on its first voyage in April 1912. The dataset includes details like age, gender, class, ticket fare, and survival staus. It’s a useful resource for exploring patterns and factors that might have affected survival during this historic event.\n",
    "\n",
    "#### Key Features of the Dataset:\n",
    "\n",
    "- **PassengerId**: A unique identifier for each passenger.\n",
    "- **Survived**: A binary indicator (0 = No, 1 = Yes) representing whether the passenger survived the disaster.\n",
    "- **Pclass**: The class of the ticket purchased by the passenger (1 = First, 2 = Second, 3 = Third).\n",
    "- **Name**: The full name of the passenger.\n",
    "- **Sex**: The gender of the passenger (male or female).\n",
    "- **Age**: The age of the passenger in years (some entries may be missing).\n",
    "- **SibSp**: The number of siblings or spouses aboard the Titanic.\n",
    "- **Parch**: The number of parents or children aboard the Titanic.\n",
    "- **Ticket**: The ticket number of the passenger.\n",
    "- **Fare**: The fare paid for the ticket.\n",
    "- **Cabin**: The cabin number where the passenger stayed (some entries may be missing).\n",
    "- **Embarked**: The port of embarkation (C = Cherbourg, Q = Queenstown, S = Southampton).\n",
    "\n"
   ]
  },
  {
   "cell_type": "code",
   "execution_count": 42,
   "metadata": {},
   "outputs": [],
   "source": [
    "import requests\n",
    "import pathlib as path\n",
    "import matplotlib.pyplot as plt\n",
    "import pandas as pd\n",
    "import seaborn as sns\n",
    "import numpy as np\n",
    "\n"
   ]
  },
  {
   "cell_type": "markdown",
   "metadata": {},
   "source": []
  },
  {
   "cell_type": "code",
   "execution_count": 43,
   "metadata": {},
   "outputs": [
    {
     "name": "stdout",
     "output_type": "stream",
     "text": [
      "<bound method NDFrame.head of      survived  pclass     sex   age  sibsp  parch     fare embarked   class  \\\n",
      "0           0       3    male  22.0      1      0   7.2500        S   Third   \n",
      "1           1       1  female  38.0      1      0  71.2833        C   First   \n",
      "2           1       3  female  26.0      0      0   7.9250        S   Third   \n",
      "3           1       1  female  35.0      1      0  53.1000        S   First   \n",
      "4           0       3    male  35.0      0      0   8.0500        S   Third   \n",
      "..        ...     ...     ...   ...    ...    ...      ...      ...     ...   \n",
      "886         0       2    male  27.0      0      0  13.0000        S  Second   \n",
      "887         1       1  female  19.0      0      0  30.0000        S   First   \n",
      "888         0       3  female   NaN      1      2  23.4500        S   Third   \n",
      "889         1       1    male  26.0      0      0  30.0000        C   First   \n",
      "890         0       3    male  32.0      0      0   7.7500        Q   Third   \n",
      "\n",
      "       who  adult_male deck  embark_town alive  alone  \n",
      "0      man        True  NaN  Southampton    no  False  \n",
      "1    woman       False    C    Cherbourg   yes  False  \n",
      "2    woman       False  NaN  Southampton   yes   True  \n",
      "3    woman       False    C  Southampton   yes  False  \n",
      "4      man        True  NaN  Southampton    no   True  \n",
      "..     ...         ...  ...          ...   ...    ...  \n",
      "886    man        True  NaN  Southampton    no   True  \n",
      "887  woman       False    B  Southampton   yes   True  \n",
      "888  woman       False  NaN  Southampton    no  False  \n",
      "889    man        True    C    Cherbourg   yes   True  \n",
      "890    man        True  NaN   Queenstown    no   True  \n",
      "\n",
      "[891 rows x 15 columns]>\n"
     ]
    }
   ],
   "source": [
    "df = pd.read_csv(\"titanic.csv\")\n",
    "print(df.head)"
   ]
  },
  {
   "cell_type": "markdown",
   "metadata": {},
   "source": [
    "\n",
    "#### Things to get back to:\n",
    "\n",
    "Purpose\n",
    "The Titanic dataset serves as an excellent introduction to data science and machine learning concepts, allowing users to explore various data analysis techniques, visualization methods, and predictive modeling algorithms. By analyzing the dataset, one can uncover insights regarding the factors that influenced survival rates among different passenger groups.\n",
    "\n",
    "Questions\n",
    "- What factors seemed to affect whether someone survived?\n",
    "- How did things like ticket class and fare relate to survival?\n",
    "- Were there differences in survival rates based on gender and age?\n",
    "\n",
    "Description\n",
    "The dataset contains information about various aspects of the passengers, such as age, gender, and class, as well as ticket information and survival status."
   ]
  }
 ],
 "metadata": {
  "kernelspec": {
   "display_name": "Python 3",
   "language": "python",
   "name": "python3"
  },
  "language_info": {
   "codemirror_mode": {
    "name": "ipython",
    "version": 3
   },
   "file_extension": ".py",
   "mimetype": "text/x-python",
   "name": "python",
   "nbconvert_exporter": "python",
   "pygments_lexer": "ipython3",
   "version": "3.12.5"
  }
 },
 "nbformat": 4,
 "nbformat_minor": 2
}
